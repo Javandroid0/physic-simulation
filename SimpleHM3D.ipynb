{
 "cells": [
  {
   "cell_type": "markdown",
   "id": "d7078d43",
   "metadata": {},
   "source": [
    "# Imprt lib for plot and calcules"
   ]
  },
  {
   "cell_type": "code",
   "execution_count": 5,
   "id": "dbc0973f",
   "metadata": {},
   "outputs": [],
   "source": [
    "%matplotlib notebook\n",
    "import matplotlib.pyplot as plt\n",
    "import numpy as np\n",
    "import ipywidgets as ipw"
   ]
  },
  {
   "cell_type": "markdown",
   "id": "32b5fd1e",
   "metadata": {},
   "source": [
    "# simple hermonic motion"
   ]
  },
  {
   "cell_type": "code",
   "execution_count": 6,
   "id": "41d77064",
   "metadata": {},
   "outputs": [],
   "source": [
    "def simple_harmonic_motion(A, omega, t, phi):\n",
    "    x = A * np.cos(omega * t + phi)\n",
    "    y = A * np.sin(omega * t + phi)\n",
    "    return x, y\n"
   ]
  },
  {
   "cell_type": "markdown",
   "id": "0154d8f1",
   "metadata": {},
   "source": [
    "# function for change atribiut in simple hermonic motation"
   ]
  },
  {
   "cell_type": "code",
   "execution_count": null,
   "outputs": [],
   "source": [
    "def update(A, omega, t, phi):\n",
    "    t = np.linspace(0, 10, 500)\n",
    "    x, y = simple_harmonic_motion(A, omega, t, phi)\n",
    "\n",
    "    fig = plt.figure()\n",
    "    ax = fig.add_subplot(111, projection='3d')\n",
    "    ax.plot(t, x, y)\n",
    "\n",
    "    ax.set_xlabel('Time (t)')\n",
    "    ax.set_ylabel('Displacement (x)')\n",
    "    ax.set_zlabel('Velocity (y)')\n",
    "\n",
    "    plt.show()\n",
    "\n",
    "ipw.interact(update, A = (0., 1. , 0.01), \n",
    "             omega = (0. , 10. , 1),\n",
    "             phi = (0., 1., 1),\n",
    "             t = (1. , 15. , 1))\n",
    "\n"
   ],
   "metadata": {
    "collapsed": false
   }
  },
  {
   "cell_type": "code",
   "execution_count": 4,
   "id": "d28169a4",
   "metadata": {},
   "outputs": [],
   "source": []
  },
  {
   "cell_type": "code",
   "execution_count": null,
   "id": "db61ef47",
   "metadata": {},
   "outputs": [],
   "source": []
  },
  {
   "cell_type": "code",
   "execution_count": null,
   "id": "c3feec09",
   "metadata": {},
   "outputs": [],
   "source": []
  }
 ],
 "metadata": {
  "kernelspec": {
   "display_name": "Python 3 (ipykernel)",
   "language": "python",
   "name": "python3"
  },
  "language_info": {
   "codemirror_mode": {
    "name": "ipython",
    "version": 3
   },
   "file_extension": ".py",
   "mimetype": "text/x-python",
   "name": "python",
   "nbconvert_exporter": "python",
   "pygments_lexer": "ipython3",
   "version": "3.10.7"
  }
 },
 "nbformat": 4,
 "nbformat_minor": 5
}
