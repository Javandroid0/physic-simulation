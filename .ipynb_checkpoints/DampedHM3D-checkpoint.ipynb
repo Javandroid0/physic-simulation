{
 "cells": [
  {
   "cell_type": "code",
   "execution_count": 4,
   "metadata": {},
   "outputs": [
    {
     "data": {
      "application/vnd.jupyter.widget-view+json": {
       "model_id": "6c764393623b4b4aada0e9c158c9dad6",
       "version_major": 2,
       "version_minor": 0
      },
      "text/plain": [
       "interactive(children=(FloatSlider(value=1.0, description='Amplitude (A)', max=10.0), FloatSlider(value=1.0, de…"
      ]
     },
     "metadata": {},
     "output_type": "display_data"
    },
    {
     "data": {
      "text/plain": [
       "<function __main__.plot_dhm(A, omega, phi, T, dt, gamma)>"
      ]
     },
     "execution_count": 4,
     "metadata": {},
     "output_type": "execute_result"
    }
   ],
   "source": [
    "%matplotlib notebook\n",
    "import numpy as np\n",
    "import matplotlib.pyplot as plt\n",
    "from mpl_toolkits.mplot3d import Axes3D\n",
    "from ipywidgets import interact, interactive, fixed, interact_manual\n",
    "import ipywidgets as widgets\n"
   ]
  },
  {
   "cell_type": "code",
   "execution_count": 5,
   "metadata": {},
   "outputs": [
    {
     "data": {
      "application/vnd.jupyter.widget-view+json": {
       "model_id": "a82bd62fa1ea41ffb67999376cea0a24",
       "version_major": 2,
       "version_minor": 0
      },
      "text/plain": [
       "interactive(children=(FloatSlider(value=1.0, description='Amplitude (A)', max=10.0), FloatSlider(value=1.0, de…"
      ]
     },
     "metadata": {},
     "output_type": "display_data"
    },
    {
     "data": {
      "text/plain": [
       "<function __main__.plot_dhm(A, omega, phi, T, dt, gamma)>"
      ]
     },
     "execution_count": 5,
     "metadata": {},
     "output_type": "execute_result"
    }
   ],
   "source": [
    "\n",
    "def damped_harmonic_motion(A, omega, phi, T, dt, gamma):\n",
    "    t = np.arange(0, T, dt)\n",
    "    x = A * np.exp(-gamma * t) * np.sin(omega * t + phi)\n",
    "    y = np.zeros_like(x)\n",
    "    z = t\n",
    "\n",
    "    v = -A * omega * np.exp(-gamma * t) * np.cos(omega * t + phi) - gamma * A * np.exp(-gamma * t) * np.sin(omega * t + phi)\n",
    "\n",
    "    return x, y, z, v, t\n",
    "\n"
   ]
  },
  {
   "cell_type": "code",
   "execution_count": 8,
   "metadata": {},
   "outputs": [],
   "source": [
    "\n",
    "def plot_dhm(A, omega, phi, T, dt, gamma):\n",
    "    x, y, z, v, t = damped_harmonic_motion(A, omega, phi, T, dt, gamma)\n",
    "\n",
    "    fig = plt.figure(figsize=(15, 5))\n",
    "\n",
    "    ax1 = fig.add_subplot(131, projection='3d')\n",
    "    ax1.plot(x, y, z)\n",
    "    ax1.set_xlabel('X')\n",
    "    ax1.set_ylabel('Y')\n",
    "    ax1.set_zlabel('Z')\n",
    "    ax1.set_title('Position (x, y, z)')\n",
    "\n",
    "    ax2 = fig.add_subplot(132)\n",
    "    ax2.plot(t, x, label='x')\n",
    "    ax2.plot(t, y, label='y')\n",
    "    ax2.set_xlabel('Time (t)')\n",
    "    ax2.set_ylabel('Position (x, y)')\n",
    "    ax2.legend()\n",
    "    ax2.set_title('Position over Time (x, y, t)')\n",
    "\n",
    "    ax3 = fig.add_subplot(133)\n",
    "    ax3.plot(t, v, label='v')\n",
    "    ax3.set_xlabel('Time (t)')\n",
    "    ax3.set_ylabel('Velocity (v)')\n",
    "    ax3.legend()\n",
    "    ax3.set_title('Velocity over Time (v, y, t)')\n",
    "\n",
    "    plt.show()"
   ]
  },
  {
   "cell_type": "code",
   "execution_count": 9,
   "metadata": {},
   "outputs": [
    {
     "data": {
      "application/vnd.jupyter.widget-view+json": {
       "model_id": "607e13e490cd488baa6482bbc91e0d9e",
       "version_major": 2,
       "version_minor": 0
      },
      "text/plain": [
       "interactive(children=(FloatSlider(value=1.0, description='Amplitude (A)', max=10.0), FloatSlider(value=1.0, de…"
      ]
     },
     "metadata": {},
     "output_type": "display_data"
    },
    {
     "data": {
      "text/plain": [
       "<function __main__.plot_dhm(A, omega, phi, T, dt, gamma)>"
      ]
     },
     "execution_count": 9,
     "metadata": {},
     "output_type": "execute_result"
    }
   ],
   "source": [
    "\n",
    "interact(plot_dhm,\n",
    "        A=widgets.FloatSlider(min=0, max=10, step=0.1, value=1, description='Amplitude (A)'),\n",
    "        omega=widgets.FloatSlider(min=0, max=10, step=0.1, value=1, description='Angular Frequency (omega)'),\n",
    "        phi=widgets.FloatSlider(min=0, max=10, step=0.1, value=0, description='Phase (phi)'),\n",
    "        T=widgets.FloatSlider(min=0, max=10, step=0.1, value=10, description='Time (T)'),\n",
    "        dt=widgets.FloatSlider(min=0, max=0.1, step=0.01, value=0.01, description='Time Step (dt)'),\n",
    "        gamma=widgets.FloatSlider(min=0, max=2, step=0.1, value=0.5, description='Damping Factor (gamma)'),\n",
    ")"
   ]
  },
  {
   "cell_type": "code",
   "execution_count": null,
   "metadata": {},
   "outputs": [],
   "source": []
  }
 ],
 "metadata": {
  "kernelspec": {
   "display_name": "Python 3 (ipykernel)",
   "language": "python",
   "name": "python3"
  },
  "language_info": {
   "codemirror_mode": {
    "name": "ipython",
    "version": 3
   },
   "file_extension": ".py",
   "mimetype": "text/x-python",
   "name": "python",
   "nbconvert_exporter": "python",
   "pygments_lexer": "ipython3",
   "version": "3.10.7"
  }
 },
 "nbformat": 4,
 "nbformat_minor": 1
}
