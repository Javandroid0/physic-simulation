{
 "cells": [
  {
   "cell_type": "markdown",
   "id": "d7078d43",
   "metadata": {},
   "source": [
    "# Imprt lib for plot and calcules"
   ]
  },
  {
   "cell_type": "code",
   "execution_count": 1,
   "id": "dbc0973f",
   "metadata": {},
   "outputs": [],
   "source": [
    "%matplotlib notebook\n",
    "import matplotlib.pyplot as plt\n",
    "import numpy as np\n",
    "import ipywidgets as ipw"
   ]
  },
  {
   "cell_type": "markdown",
   "id": "32b5fd1e",
   "metadata": {},
   "source": [
    "# simple hermonic motion"
   ]
  },
  {
   "cell_type": "code",
   "execution_count": 2,
   "id": "41d77064",
   "metadata": {},
   "outputs": [],
   "source": [
    "def simple_harmonic_motion(A, omega, t, phi):\n",
    "    x = A * np.cos(omega * t + phi)\n",
    "    y = A * np.sin(omega * t + phi)\n",
    "    return x, y\n"
   ]
  },
  {
   "cell_type": "markdown",
   "id": "0154d8f1",
   "metadata": {},
   "source": [
    "# function for change atribiut in simple hermonic motation"
   ]
  },
  {
   "cell_type": "code",
   "execution_count": 3,
   "id": "30bf3fb7",
   "metadata": {},
   "outputs": [
    {
     "data": {
      "application/vnd.jupyter.widget-view+json": {
       "model_id": "c2fb40447b484105af764b2904f597cc",
       "version_major": 2,
       "version_minor": 0
      },
      "text/plain": [
       "interactive(children=(FloatSlider(value=0.5, description='A', max=1.0, step=0.01), FloatSlider(value=5.0, desc…"
      ]
     },
     "metadata": {},
     "output_type": "display_data"
    },
    {
     "data": {
      "text/plain": [
       "<function __main__.update(A, omega, t, phi)>"
      ]
     },
     "execution_count": 3,
     "metadata": {},
     "output_type": "execute_result"
    }
   ],
   "source": [
    "def update(A, omega, t, phi):\n",
    "    t = np.linspace(0, 10, 500)\n",
    "    x, y = simple_harmonic_motion(A, omega, t, phi)\n",
    "\n",
    "    fig = plt.figure()\n",
    "    ax = fig.add_subplot(111, projection='3d')\n",
    "    ax.plot(t, x, y)\n",
    "\n",
    "    ax.set_xlabel('Time (t)')\n",
    "    ax.set_ylabel('Displacement (x)')\n",
    "    ax.set_zlabel('Velocity (y)')\n",
    "\n",
    "    plt.show()\n",
    "\n",
    "ipw.interact(update, A = (0., 1. , 0.01), \n",
    "             omega = (0. , 10. , 1),\n",
    "             phi = (0., 1., 1),\n",
    "             t = (1. , 15. , 1))\n",
    "\n"
   ]
  },
  {
   "cell_type": "code",
   "execution_count": 4,
   "id": "d28169a4",
   "metadata": {},
   "outputs": [],
   "source": []
  },
  {
   "cell_type": "code",
   "execution_count": null,
   "id": "db61ef47",
   "metadata": {},
   "outputs": [],
   "source": []
  },
  {
   "cell_type": "code",
   "execution_count": null,
   "id": "c3feec09",
   "metadata": {},
   "outputs": [],
   "source": []
  }
 ],
 "metadata": {
  "kernelspec": {
   "display_name": "Python 3 (ipykernel)",
   "language": "python",
   "name": "python3"
  },
  "language_info": {
   "codemirror_mode": {
    "name": "ipython",
    "version": 3
   },
   "file_extension": ".py",
   "mimetype": "text/x-python",
   "name": "python",
   "nbconvert_exporter": "python",
   "pygments_lexer": "ipython3",
   "version": "3.10.7"
  }
 },
 "nbformat": 4,
 "nbformat_minor": 5
}
